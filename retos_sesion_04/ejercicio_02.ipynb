{
 "cells": [
  {
   "cell_type": "code",
   "execution_count": 2,
   "metadata": {},
   "outputs": [
    {
     "name": "stdout",
     "output_type": "stream",
     "text": [
      "\n",
      "       / \\__\n",
      "      (    *\\___\n",
      "      /         ()\n",
      "    /   (_____/\n",
      "  /_____ / '-' \n",
      "/       /\n",
      "\n"
     ]
    }
   ],
   "source": [
    "print(\"\"\"\n",
    "       / \\\\__\n",
    "      (    *\\\\___\n",
    "      /         ()\n",
    "    /   (_____/\n",
    "  /_____ / '-' \n",
    "/       /\n",
    "\"\"\")"
   ]
  },
  {
   "cell_type": "markdown",
   "metadata": {},
   "source": [
    "\n",
    "  _Creacion de una imagen utilizando los siquientes símbolos_\n",
    "  * - , () \\ | / _ \" ' = C"
   ]
  }
 ],
 "metadata": {
  "kernelspec": {
   "display_name": "Python 3 (ipykernel)",
   "language": "python",
   "name": "python3"
  },
  "language_info": {
   "codemirror_mode": {
    "name": "ipython",
    "version": 3
   },
   "file_extension": ".py",
   "mimetype": "text/x-python",
   "name": "python",
   "nbconvert_exporter": "python",
   "pygments_lexer": "ipython3",
   "version": "3.10.12"
  }
 },
 "nbformat": 4,
 "nbformat_minor": 2
}
