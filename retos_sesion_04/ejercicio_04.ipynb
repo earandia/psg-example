{
 "cells": [
  {
   "cell_type": "markdown",
   "metadata": {},
   "source": [
    "\n",
    "    Crea un archivo \"ejercicio_04.ipynb\", y diseña un juego\n",
    "\n",
    "    El título y descripción deben ser un bloque de markdown\n",
    "    Las reglas deben ser un bloque de markdown\n",
    "    El diseño del tablero debe ser un bloque de código en Python con prints\n",
    "    La descripción de las piezas debe ser un bloque de markdown\n",
    "    El diseño de las piezas debe ser un bloque de código en Python con prints\n"
   ]
  },
  {
   "cell_type": "markdown",
   "metadata": {},
   "source": [
    "# Vivir o morir"
   ]
  },
  {
   "cell_type": "markdown",
   "metadata": {},
   "source": [
    "### Reglas\n"
   ]
  },
  {
   "cell_type": "markdown",
   "metadata": {},
   "source": [
    "- Solo pueden jugar dos jugadores\n",
    "- Cada jugador tendra las siguientes fichas: *1 rey, 6 peones, 2 torres, 2 cañones y 1 espia*\n",
    "- Para determinar quien inicia moviendo se lanzara el dado y el que saque el numero mayor inicia moviendo.\n",
    "### Inicio de la partida\n",
    "- En el `tablero de 8x8` cada jugador colocara las fichas en un extremo ocupando como maximo 3 filas.\n",
    "- Una vez iniciado el juego  las fichas no se pueden cambiar de posicion.\n",
    "- Cada ficha solo se puede mover un cuadro a la vez.\n",
    "- Un peon se encuentra en el camno delatne de una torre no puede avanzar mas y queda bloqueado\n",
    "- Si un peon se encuentra con un peon enemgo  toma el lugar de este ultimo.\n",
    "- La torre cubre un area de un cuadro a su alrededor\n",
    "- El espia no pude ser detectado por el enemigo y puede acercarse a la torre.\n",
    "- Si el rey es capturado  el juego termina y gana el jugador que captura al rey"
   ]
  }
 ],
 "metadata": {
  "kernelspec": {
   "display_name": "Python 3",
   "language": "python",
   "name": "python3"
  },
  "language_info": {
   "name": "python",
   "version": "3.10.12"
  }
 },
 "nbformat": 4,
 "nbformat_minor": 2
}
