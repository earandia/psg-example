{
 "cells": [
  {
   "cell_type": "code",
   "execution_count": null,
   "metadata": {},
   "outputs": [],
   "source": [
    "simple = 'Mi cadena permite comillas \"dobles\" en una sola línea'\n",
    "doble  = \"Mi cadena permite comillas 'simples' en una sola línea\"\n",
    "triple_simple = '''Mi cadena\n",
    "permite contenido \n",
    "en varias líneas y comillas \"dobles\" '''\n",
    "triple_doble = \"\"\"Mi cadena\n",
    "permite contenido \n",
    "en varias líneas y comillas 'simples' \"\"\"\n",
    "print (simple)\n",
    "print (doble)\n",
    "print (triple_simple)\n",
    "print (triple_doble)"
   ]
  },
  {
   "cell_type": "code",
   "execution_count": null,
   "metadata": {},
   "outputs": [],
   "source": [
    "entero = str(1)\n",
    "flotante = str(1E-3)\n",
    "hexadecimal = str(0xA)\n",
    "booleano = str (True)\n",
    "print (entero)\n",
    "print (flotante)\n",
    "print (hexadecimal)\n",
    "print (booleano)\n",
    "print (type(entero))\n",
    "print (type(flotante))\n",
    "print (type(hexadecimal))\n",
    "print (type(booleano))"
   ]
  },
  {
   "cell_type": "code",
   "execution_count": null,
   "metadata": {},
   "outputs": [],
   "source": [
    "#error\n",
    "print (\"El mensaje enviado fue: \"Hello, I'm a message\"\")\n",
    "print ('El mensaje enviado fue: \"Hello, I'm a message\"')\n",
    "#correct\n",
    "print (\"El mensaje enviado fue: \\\"Hello, I\\'m a message\\\"\")\n",
    "print ('El mensaje enviado fue: \\\"Hello, I\\'m a message\\\"')"
   ]
  },
  {
   "cell_type": "code",
   "execution_count": null,
   "metadata": {},
   "outputs": [],
   "source": [
    "mensaje = \"Hola,\\n\\teste es un mensaje \\vcon algunos caracteres \\\n",
    "especiales como \\\\ y tabulador.\"\n",
    "print(mensaje)"
   ]
  },
  {
   "cell_type": "code",
   "execution_count": null,
   "metadata": {},
   "outputs": [],
   "source": [
    "entrada = input(\"Ingrese un valor: \")\n",
    "print (entrada)\n",
    "print (type(entrada))"
   ]
  },
  {
   "cell_type": "code",
   "execution_count": null,
   "metadata": {},
   "outputs": [],
   "source": [
    "entero = int(input(\"Ingrese un valor entero: \"))\n",
    "print (entero, type(entero))"
   ]
  },
  {
   "cell_type": "code",
   "execution_count": null,
   "metadata": {},
   "outputs": [],
   "source": [
    "flotante = float(input(\"Ingrese un valor flotante: \"))\n",
    "print (flotante, type(flotante))"
   ]
  },
  {
   "cell_type": "code",
   "execution_count": null,
   "metadata": {},
   "outputs": [],
   "source": [
    "booleano = bool(input(\"Ingrese un valor booleano: \"))\n",
    "print (booleano, type(booleano))"
   ]
  },
  {
   "cell_type": "markdown",
   "metadata": {},
   "source": []
  },
  {
   "cell_type": "code",
   "execution_count": null,
   "metadata": {},
   "outputs": [],
   "source": [
    "print (\"Indexado positivo\")\n",
    "fruta = \"banana\"\n",
    "print (fruta)\n",
    "print (fruta[0])\n",
    "print (fruta[5])"
   ]
  },
  {
   "cell_type": "code",
   "execution_count": null,
   "metadata": {},
   "outputs": [],
   "source": [
    "print (\"Indexado negativo\")\n",
    "fruta = \"banana\"\n",
    "print (fruta)\n",
    "print (fruta[-1])\n",
    "print (fruta[-3])"
   ]
  },
  {
   "cell_type": "code",
   "execution_count": null,
   "metadata": {},
   "outputs": [],
   "source": [
    "print (\"Slicing\")\n",
    "ciudad =  \"LaPaz-Bolivia\"\n",
    "print (ciudad)\n",
    "print (\"Slicing con índices positivos\")\n",
    "print (ciudad[0:6])\n",
    "print (ciudad[0:6:2])\n",
    "print (\"Slicing con índices negativos\")\n",
    "print (ciudad[-10:-2])\n",
    "print (ciudad[-10:-2:2])"
   ]
  },
  {
   "cell_type": "code",
   "execution_count": null,
   "metadata": {},
   "outputs": [],
   "source": [
    "print (\"Slicing sin índice inicial y final\")\n",
    "print (ciudad[:6])\n",
    "print (ciudad[6:])\n",
    "print (\"Slicing sin índice inicial ni final\")\n",
    "print (ciudad[:])\n",
    "print (ciudad[::2])"
   ]
  },
  {
   "cell_type": "code",
   "execution_count": null,
   "metadata": {},
   "outputs": [],
   "source": [
    "print (\"Slicing con paso negativo\")\n",
    "print (ciudad[10:4:-1])\n",
    "print (ciudad[10::-2])"
   ]
  },
  {
   "cell_type": "code",
   "execution_count": null,
   "metadata": {},
   "outputs": [],
   "source": [
    "print (\"Concatenación de cadenas\")\n",
    "cadena1 = \"Hola\"\n",
    "cadena2 = \"Mundo\"\n",
    "concatenada = cadena1 + \" \" + cadena2\n",
    "print (concatenada)"
   ]
  },
  {
   "cell_type": "code",
   "execution_count": null,
   "metadata": {},
   "outputs": [],
   "source": [
    "print (\"Repetición de cadenas\")\n",
    "cadena = \"-#-\"\n",
    "repetida = cadena * 10\n",
    "print (repetida)"
   ]
  },
  {
   "cell_type": "code",
   "execution_count": null,
   "metadata": {},
   "outputs": [],
   "source": [
    "print (\"Longitud de una cadena\")\n",
    "cadena = \"Hola Mundo :D\"\n",
    "longitud = len(cadena)\n",
    "print (cadena)\n",
    "print (longitud, type(longitud))"
   ]
  },
  {
   "cell_type": "code",
   "execution_count": null,
   "metadata": {},
   "outputs": [],
   "source": [
    "print (\"Función Upper\")\n",
    "cadena = \"cadena Inicial #1\"\n",
    "mayuscula  = cadena.upper()\n",
    "print (cadena)\n",
    "print (mayuscula)"
   ]
  },
  {
   "cell_type": "code",
   "execution_count": null,
   "metadata": {},
   "outputs": [],
   "source": [
    "print (\"Función Lower\")\n",
    "cadena = \"Cadena INICIAL #2\"\n",
    "minuscula  = cadena.lower()\n",
    "print (cadena)\n",
    "print (minuscula)"
   ]
  },
  {
   "cell_type": "code",
   "execution_count": null,
   "metadata": {},
   "outputs": [],
   "source": [
    "print (\"Función Capitalize\")\n",
    "cadena = \"cadena INICIAL #3\"\n",
    "capital = cadena.capitalize()\n",
    "print (cadena)\n",
    "print (capital)"
   ]
  },
  {
   "cell_type": "code",
   "execution_count": null,
   "metadata": {},
   "outputs": [],
   "source": [
    "print (\"Función Title\")\n",
    "cadena = \"CADENA inicial #4\"\n",
    "titulo = cadena.title()\n",
    "print (cadena)\n",
    "print (titulo)"
   ]
  },
  {
   "cell_type": "code",
   "execution_count": null,
   "metadata": {},
   "outputs": [],
   "source": [
    "print (\"Función Swapcase\")\n",
    "cadena = \"CADena InIcIaL #5\"\n",
    "swap = cadena.swapcase()\n",
    "print (cadena)\n",
    "print (swap)"
   ]
  },
  {
   "cell_type": "code",
   "execution_count": null,
   "metadata": {},
   "outputs": [],
   "source": [
    "print (\"Función Count\")\n",
    "cadena = \"Cantidad de veces la letra A\"\n",
    "contar = cadena.count(\"a\")\n",
    "print(cadena)\n",
    "print(contar, type(contar))"
   ]
  },
  {
   "cell_type": "code",
   "execution_count": null,
   "metadata": {},
   "outputs": [],
   "source": [
    "print (\"Función Find\")\n",
    "cadena = \"Encontrar las letras las\"\n",
    "buscar = cadena.find(\"las\")\n",
    "print(cadena)\n",
    "print(buscar, type(buscar))"
   ]
  },
  {
   "cell_type": "code",
   "execution_count": null,
   "metadata": {},
   "outputs": [],
   "source": [
    "print (\"Función Rfind\")\n",
    "cadena = \"Encontrar las letras las\"\n",
    "buscar = cadena.rfind(\"las\")\n",
    "print(cadena)\n",
    "print(buscar, type(buscar))"
   ]
  },
  {
   "cell_type": "code",
   "execution_count": null,
   "metadata": {},
   "outputs": [],
   "source": [
    "print (\"Función Find y Rfind\")\n",
    "cadena = \"Encontrar tres O\"\n",
    "buscar = cadena.find(\"OOO\")\n",
    "print(cadena)\n",
    "print(buscar, type(buscar))\n",
    "buscar = cadena.rfind(\"OOO\")\n",
    "print(buscar, type(buscar))"
   ]
  },
  {
   "cell_type": "code",
   "execution_count": null,
   "metadata": {},
   "outputs": [],
   "source": [
    "print (\"Función isdigit\")\n",
    "resultado = \"100\".isdigit()\n",
    "print (resultado, type(resultado))\n",
    "print (\"Función isalpha\")\n",
    "resultado = \"Hola\".isalpha()\n",
    "print (resultado, type(resultado))\n",
    "print (\"Función isalnum\")\n",
    "resultado = \"usuario123\".isalnum()\n",
    "print (resultado, type(resultado))"
   ]
  },
  {
   "cell_type": "code",
   "execution_count": null,
   "metadata": {},
   "outputs": [],
   "source": [
    "print (\"Función split\")\n",
    "cadena = \"pan,carne,huevos\"\n",
    "separado = cadena.split(\",\")\n",
    "print (cadena)\n",
    "print (separado, type(separado))"
   ]
  },
  {
   "cell_type": "code",
   "execution_count": null,
   "metadata": {},
   "outputs": [],
   "source": [
    "print (\"Función join\")\n",
    "cadena = \"abcdefghij\"\n",
    "unido = \"-\".join(cadena)\n",
    "print (cadena)\n",
    "print (unido)"
   ]
  },
  {
   "cell_type": "code",
   "execution_count": null,
   "metadata": {},
   "outputs": [],
   "source": [
    "print (\"Función strip\")\n",
    "cadena = \"      Hola    Mundo     \"\n",
    "limpio = cadena.strip()\n",
    "print (cadena)\n",
    "print (limpio)\n",
    "cadena = \"-abc--def-ghi-cba----\"\n",
    "limpio = cadena.strip(\"bac-\")\n",
    "print (cadena)\n",
    "print (limpio)"
   ]
  },
  {
   "cell_type": "code",
   "execution_count": null,
   "metadata": {},
   "outputs": [],
   "source": [
    "print (\"Función replace\")\n",
    "cadena = \"Me gusta programar en JS, Amo JS\"\n",
    "reemplazado = cadena.replace(\"JS\", \"Python\")\n",
    "print (cadena)\n",
    "print (reemplazado)"
   ]
  },
  {
   "cell_type": "markdown",
   "metadata": {},
   "source": [
    "## format(): Realiza una operación de formateo e inserta contenido a la cadena delimitado por llaves {}"
   ]
  },
  {
   "cell_type": "code",
   "execution_count": null,
   "metadata": {},
   "outputs": [],
   "source": [
    "print (\"Función format\")\n",
    "cadena = \"El valor de PI es: {}\"\n",
    "formateado = cadena.format(3.1416)\n",
    "print (cadena)\n",
    "print (formateado)"
   ]
  },
  {
   "cell_type": "code",
   "execution_count": null,
   "metadata": {},
   "outputs": [],
   "source": [
    "print (\"Función format con índices\")\n",
    "cadena = \"{2} es la suma de {0} y {1}\"\n",
    "valor_1 = 5\n",
    "valor_2 = 3\n",
    "resultado = valor_1+valor_2\n",
    "formateado = cadena.format(valor_1, valor_2, resultado)\n",
    "print (cadena)\n",
    "print (formateado)"
   ]
  },
  {
   "cell_type": "code",
   "execution_count": null,
   "metadata": {},
   "outputs": [],
   "source": [
    "print (\"Función format con nombres\")\n",
    "cadena = \"{ciudad} es la capital de {pais}\"\n",
    "pais = \"Francia\"\n",
    "ciudad = \"París\"\n",
    "formateado = cadena.format(pais=pais, ciudad=ciudad)\n",
    "print (cadena)\n",
    "print (formateado)"
   ]
  },
  {
   "cell_type": "code",
   "execution_count": null,
   "metadata": {},
   "outputs": [],
   "source": [
    "print (\"Función format con f-string\")\n",
    "moneda = \"Boliviano\"\n",
    "pais = \"Bolivia\"\n",
    "formateado = f\"La moneda de {pais} es el {moneda}\"\n",
    "print (formateado)"
   ]
  }
 ],
 "metadata": {
  "language_info": {
   "name": "python"
  }
 },
 "nbformat": 4,
 "nbformat_minor": 2
}
