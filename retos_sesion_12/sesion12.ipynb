{
 "cells": [
  {
   "cell_type": "code",
   "execution_count": 1,
   "metadata": {},
   "outputs": [
    {
     "name": "stdout",
     "output_type": "stream",
     "text": [
      "Inicio\n",
      "Cumple condición\n",
      "Fin\n"
     ]
    }
   ],
   "source": [
    "print (\"Inicio\")\n",
    "condicion = True\n",
    "if condicion:\n",
    "    # Bloque de código\n",
    "    print (\"Cumple condición\")\n",
    "print (\"Fin\")"
   ]
  },
  {
   "cell_type": "code",
   "execution_count": 2,
   "metadata": {},
   "outputs": [
    {
     "name": "stdout",
     "output_type": "stream",
     "text": [
      "Inicio\n",
      "El número es par\n",
      "Fin\n"
     ]
    }
   ],
   "source": [
    "print (\"Inicio\")\n",
    "numero = 4\n",
    "if numero % 2 == 0: # Si el módulo de 2 es 0\n",
    "    print (\"El número es par\")\n",
    "print (\"Fin\")"
   ]
  },
  {
   "cell_type": "code",
   "execution_count": 3,
   "metadata": {},
   "outputs": [
    {
     "name": "stdout",
     "output_type": "stream",
     "text": [
      "Inicio\n",
      "No cumple condición\n",
      "Fin\n"
     ]
    }
   ],
   "source": [
    "print (\"Inicio\")\n",
    "condicion = False\n",
    "if condicion:\n",
    "    # Bloque de código \n",
    "    print (\"Cumple condición\")\n",
    "else:\n",
    "    # Bloque de código\n",
    "    print (\"No cumple condición\")\n",
    "print (\"Fin\")"
   ]
  },
  {
   "cell_type": "code",
   "execution_count": 4,
   "metadata": {},
   "outputs": [
    {
     "name": "stdout",
     "output_type": "stream",
     "text": [
      "Inicio\n",
      "El número es impar\n",
      "Fin\n"
     ]
    }
   ],
   "source": [
    "print (\"Inicio\")\n",
    "numero = 3\n",
    "if numero % 2 == 0: # Si el módulo de 2 es 0\n",
    "    print (\"El número es par\")\n",
    "else:\n",
    "    print (\"El número es impar\")\n",
    "print (\"Fin\")"
   ]
  },
  {
   "cell_type": "code",
   "execution_count": 5,
   "metadata": {},
   "outputs": [
    {
     "name": "stdout",
     "output_type": "stream",
     "text": [
      "Inicio Anidado\n",
      "Cumple condición 1\n",
      "No cumple condición 2\n",
      "Fin\n"
     ]
    }
   ],
   "source": [
    "print (\"Inicio Anidado\")\n",
    "condicion_1 = True\n",
    "condicion_2 = False\n",
    "if condicion_1:\n",
    "    print (\"Cumple condición 1\")\n",
    "    if condicion_2:\n",
    "        print (\"Cumple condición 2\")\n",
    "    else:\n",
    "        print (\"No cumple condición 2\")\n",
    "else:\n",
    "    print (\"No cumple condición 1\")\n",
    "print (\"Fin\")"
   ]
  },
  {
   "cell_type": "code",
   "execution_count": 6,
   "metadata": {},
   "outputs": [
    {
     "name": "stdout",
     "output_type": "stream",
     "text": [
      "Inicio Par, Impar o Cero\n",
      "El número es cero\n",
      "Fin\n"
     ]
    }
   ],
   "source": [
    "print (\"Inicio Par, Impar o Cero\")\n",
    "numero = 0  \n",
    "if numero > 0 or numero < 0:\n",
    "    if numero % 2 == 0: # Si el módulo de 2 es 0\n",
    "        print (\"El número es par\")\n",
    "    else:\n",
    "        print (\"El número es impar\")\n",
    "else:\n",
    "    print (\"El número es cero\")\n",
    "print (\"Fin\")"
   ]
  },
  {
   "cell_type": "code",
   "execution_count": 7,
   "metadata": {},
   "outputs": [
    {
     "name": "stdout",
     "output_type": "stream",
     "text": [
      "Inicio ELIF\n",
      "Cumple condición 2\n",
      "Fin\n"
     ]
    }
   ],
   "source": [
    "print (\"Inicio ELIF\")\n",
    "condicion_1 = False\n",
    "condicion_2 = True\n",
    "if condicion_1:\n",
    "    print (\"Cumple condición 1\")\n",
    "elif condicion_2:\n",
    "    print (\"Cumple condición 2\")\n",
    "else:\n",
    "    print (\"No cumple condición 1 ni 2\")\n",
    "print (\"Fin\")"
   ]
  },
  {
   "cell_type": "code",
   "execution_count": 8,
   "metadata": {},
   "outputs": [
    {
     "name": "stdout",
     "output_type": "stream",
     "text": [
      "Inicio Positivo, Negativo o Cero\n",
      "El número es negativo\n"
     ]
    }
   ],
   "source": [
    "print (\"Inicio Positivo, Negativo o Cero\")\n",
    "numero = -1\n",
    "if numero > 0:\n",
    "    print (\"El número es positivo\")\n",
    "elif numero < 0:\n",
    "    print (\"El número es negativo\")\n",
    "else:\n",
    "    print (\"El número es cero\")"
   ]
  },
  {
   "cell_type": "code",
   "execution_count": 9,
   "metadata": {},
   "outputs": [
    {
     "name": "stdout",
     "output_type": "stream",
     "text": [
      "Inicio Ternario\n",
      "Cumple\n",
      "Fin\n"
     ]
    }
   ],
   "source": [
    "print (\"Inicio Ternario\")\n",
    "condicion = True\n",
    "resultado = \"Cumple\" if condicion else \"No cumple\"\n",
    "print (resultado)\n",
    "print (\"Fin\")"
   ]
  },
  {
   "cell_type": "code",
   "execution_count": 10,
   "metadata": {},
   "outputs": [
    {
     "name": "stdout",
     "output_type": "stream",
     "text": [
      "Inicio Ternario Par, Impar\n",
      "El número es impar\n",
      "Fin\n"
     ]
    }
   ],
   "source": [
    "print (\"Inicio Ternario Par, Impar\")\n",
    "numero = 3\n",
    "resultado = \"El número es par\" if numero % 2 == 0 else \"El número es impar\"\n",
    "print (resultado)\n",
    "print (\"Fin\")"
   ]
  },
  {
   "cell_type": "code",
   "execution_count": 11,
   "metadata": {},
   "outputs": [
    {
     "name": "stdout",
     "output_type": "stream",
     "text": [
      "Truthiness Enteros\n",
      "5 10\n",
      "0.5\n",
      "Fin\n"
     ]
    }
   ],
   "source": [
    "print (\"Truthiness Enteros\")\n",
    "dividendo = int(input(\"Dividendo: \"))\n",
    "divisor = int(input(\"Divisor: \"))\n",
    "print (dividendo,divisor)\n",
    "if divisor: #divisor != 0\n",
    "    print (dividendo / divisor)\n",
    "else:\n",
    "    print (\"No se puede dividir entre cero\")\n",
    "print (\"Fin\")"
   ]
  },
  {
   "cell_type": "code",
   "execution_count": 12,
   "metadata": {},
   "outputs": [
    {
     "name": "stdout",
     "output_type": "stream",
     "text": [
      "Truthiness Flotantes\n",
      "2.0 5.0\n",
      "0.4\n",
      "Fin\n"
     ]
    }
   ],
   "source": [
    "print (\"Truthiness Flotantes\")\n",
    "dividendo = float(input(\"Dividendo: \"))\n",
    "divisor = float(input(\"Divisor: \"))\n",
    "print (dividendo,divisor)\n",
    "if divisor: #divisor != 0.0\n",
    "    print (dividendo / divisor)\n",
    "else:\n",
    "    print (\"No se puede dividir entre cero\")\n",
    "print (\"Fin\")"
   ]
  },
  {
   "cell_type": "code",
   "execution_count": 13,
   "metadata": {},
   "outputs": [
    {
     "name": "stdout",
     "output_type": "stream",
     "text": [
      "Truthiness Cadenas\n",
      "sentencia IF\n",
      "La cadena no está vacía\n",
      "Fin\n"
     ]
    }
   ],
   "source": [
    "print (\"Truthiness Cadenas\")\n",
    "cadena = input(\"Cadena: \")\n",
    "print (cadena)\n",
    "if cadena: # len(cadena) != 0 or cadena != \"\" \n",
    "    print (\"La cadena no está vacía\")\n",
    "else:\n",
    "    print (\"La cadena está vacía\")\n",
    "print (\"Fin\")"
   ]
  },
  {
   "cell_type": "code",
   "execution_count": 14,
   "metadata": {},
   "outputs": [
    {
     "name": "stdout",
     "output_type": "stream",
     "text": [
      "Truthiness Tuplas\n",
      "('{', '9', ',', '8', ',', '7', ',', '6', ',', \"'\", 'y', 't', '}')\n",
      "La tupla no está vacía\n",
      "Fin\n"
     ]
    }
   ],
   "source": [
    "print (\"Truthiness Tuplas\")\n",
    "tupla = tuple(input(\"Tupla: \"))\n",
    "print (tupla)\n",
    "if tupla: # len(tupla) != 0 or tupla != ()\n",
    "    print (\"La tupla no está vacía\")\n",
    "else:\n",
    "    print (\"La tupla está vacía\")\n",
    "print (\"Fin\")"
   ]
  },
  {
   "cell_type": "code",
   "execution_count": 15,
   "metadata": {},
   "outputs": [
    {
     "name": "stdout",
     "output_type": "stream",
     "text": [
      "Truthiness Listas\n",
      "['[', \"'\", 'l', 'i', 's', 't', \"'\", ',', \"'\", 'r', 'e', 's', 't', \"'\"]\n",
      "La lista no está vacía\n",
      "Fin\n"
     ]
    }
   ],
   "source": [
    "print (\"Truthiness Listas\")\n",
    "lista = list(input(\"Lista: \"))\n",
    "print (lista)\n",
    "if lista: # len(lista) != 0 or lista != []\n",
    "    print (\"La lista no está vacía\")\n",
    "else:\n",
    "    print (\"La lista está vacía\")\n",
    "print (\"Fin\")"
   ]
  },
  {
   "cell_type": "code",
   "execution_count": 16,
   "metadata": {},
   "outputs": [
    {
     "name": "stdout",
     "output_type": "stream",
     "text": [
      "Truthiness Conjuntos\n",
      "{'6', '5', 'r', '9', 'y', 'u', '0', 'p', ',', '4', 'o', \"'\"}\n",
      "El conjunto no está vacío\n",
      "Fin\n"
     ]
    }
   ],
   "source": [
    "print (\"Truthiness Conjuntos\")\n",
    "conjunto = set(input(\"Conjunto: \"))\n",
    "print (conjunto)\n",
    "if conjunto: # len(conjunto) != 0 or conjunto != set()\n",
    "    print (\"El conjunto no está vacío\")\n",
    "else:\n",
    "    print (\"El conjunto está vacío\")\n",
    "print (\"Fin\")"
   ]
  },
  {
   "cell_type": "code",
   "execution_count": 17,
   "metadata": {},
   "outputs": [
    {
     "name": "stdout",
     "output_type": "stream",
     "text": [
      "Truthiness Diccionarios\n",
      "{'123456': '789'}\n",
      "El diccionario no está vacío\n",
      "Fin\n"
     ]
    }
   ],
   "source": [
    "print (\"Truthiness Diccionarios\")\n",
    "diccionario = {}\n",
    "clave = input(\"Clave: \")\n",
    "valor = input(\"Valor: \")\n",
    "if clave:\n",
    "    diccionario = {clave:valor}\n",
    "print (diccionario)\n",
    "if diccionario: # diccionario != {}\n",
    "    print (\"El diccionario no está vacío\")\n",
    "else:\n",
    "    print (\"El diccionario está vacío\")\n",
    "print (\"Fin\")"
   ]
  },
  {
   "cell_type": "code",
   "execution_count": 18,
   "metadata": {},
   "outputs": [
    {
     "name": "stdout",
     "output_type": "stream",
     "text": [
      "Truthiness None\n",
      "None <class 'NoneType'>\n",
      "El valor es None\n",
      "Fin\n"
     ]
    }
   ],
   "source": [
    "print (\"Truthiness None\")\n",
    "valor = None\n",
    "print (valor, type(valor))\n",
    "if valor: # valor != None\n",
    "    print (\"El valor no es None\")\n",
    "else:\n",
    "    print (\"El valor es None\")\n",
    "print (\"Fin\")"
   ]
  },
  {
   "cell_type": "code",
   "execution_count": 19,
   "metadata": {},
   "outputs": [
    {
     "name": "stdout",
     "output_type": "stream",
     "text": [
      "Diferente de 0\n",
      "Diferente de 0.0\n",
      "No está vacía\n"
     ]
    }
   ],
   "source": [
    "entero = int(input(\"Entero: \"))\n",
    "resultado = \"Diferente de 0\" if entero else \"Igual a 0\"\n",
    "print (resultado)\n",
    "flotante = float(input(\"Flotante: \"))\n",
    "resultado = \"Diferente de 0.0\" if flotante else \"Igual a 0.0\"\n",
    "print (resultado)\n",
    "cadena = input(\"Cadena: \")\n",
    "resultado = \"No está vacía\" if cadena else \"Está vacía\"\n",
    "print (resultado)"
   ]
  },
  {
   "cell_type": "code",
   "execution_count": 20,
   "metadata": {},
   "outputs": [
    {
     "name": "stdout",
     "output_type": "stream",
     "text": [
      "Encender ventilador\n"
     ]
    }
   ],
   "source": [
    "temperatura = float(input(\"Temperatura: \"))\n",
    "if temperatura > 30:\n",
    "    print (\"Encender ventilador\")\n",
    "elif temperatura < 20:\n",
    "    print (\"Apagar ventilador\")"
   ]
  },
  {
   "cell_type": "code",
   "execution_count": 21,
   "metadata": {},
   "outputs": [
    {
     "name": "stdout",
     "output_type": "stream",
     "text": [
      "['🍎', '🍑', '🍓', '🍉']\n",
      "Hay 1 manzanas\n"
     ]
    }
   ],
   "source": [
    "cesta = ['🍎','🍑','🍓','🍉']\n",
    "print (cesta)\n",
    "if '🍎' in cesta:\n",
    "    print (f\"Hay {cesta.count('🍎')} manzanas\")\n",
    "else:\n",
    "    cesta.extend(['🍎','🍎'])\n",
    "    print (cesta)"
   ]
  },
  {
   "cell_type": "code",
   "execution_count": 22,
   "metadata": {},
   "outputs": [
    {
     "name": "stdout",
     "output_type": "stream",
     "text": [
      "{'especie': '🐶', 'nombre': 'Firulais', 'mamifero': True}\n",
      "Es un mamífero\n"
     ]
    }
   ],
   "source": [
    "animal = {'especie':'🐶', 'nombre': 'Firulais', 'mamifero': True}\n",
    "print (animal)\n",
    "if animal.get('mamifero'): # animal['mamifero']\n",
    "    print (\"Es un mamífero\")\n",
    "else:\n",
    "    print (\"No es un mamífero\")"
   ]
  },
  {
   "cell_type": "code",
   "execution_count": 23,
   "metadata": {},
   "outputs": [
    {
     "name": "stdout",
     "output_type": "stream",
     "text": [
      "{'🏐', '⚽', '🏀'} {'🏈', '🏓', '🏉'}\n",
      "{'🏓', '🏉', '🏐', '🏈', '⚽', '🏀'}\n",
      "{'🏈', '🏓', '🏉'}\n"
     ]
    }
   ],
   "source": [
    "conjunto_1 = {'⚽','🏀','🏐'}\n",
    "conjunto_2 = {'🏈','🏉','🏓'}\n",
    "print (conjunto_1, conjunto_2)\n",
    "if conjunto_1.isdisjoint(conjunto_2): # len(conjunto_1.intersection(conjunto_2)) == 0\n",
    "    conjunto_1.update(conjunto_2)\n",
    "    print (conjunto_1)\n",
    "else:\n",
    "    print (\"Tienen elementos en común\")\n",
    "print (conjunto_1.intersection(conjunto_2))"
   ]
  },
  {
   "cell_type": "code",
   "execution_count": 24,
   "metadata": {},
   "outputs": [
    {
     "name": "stdout",
     "output_type": "stream",
     "text": [
      "El correo es válido\n"
     ]
    }
   ],
   "source": [
    "correo = input(\"Correo: \")\n",
    "if \"@\" in correo and \".\" in correo and correo.count(\"@\") == 1:\n",
    "    if correo.find(\"@\") < correo.rfind(\".\") and correo.find(\"@\") > 0 and correo.rfind(\".\") < len(correo) - 1:\n",
    "        if correo.rfind(\".\") - correo.find(\"@\") > 1:\n",
    "            if correo.find(\".\") - correo.find(\"@\") > 1:\n",
    "                print (\"El correo es válido\")\n",
    "            else:\n",
    "                print (\"El correo no es válido\")\n",
    "        else:\n",
    "            print (\"El correo no es válido\")\n",
    "    else:\n",
    "        print (\"El correo no es válido\")\n",
    "else:\n",
    "    print (\"El correo no es válido\")"
   ]
  },
  {
   "cell_type": "markdown",
   "metadata": {},
   "source": [
    " ### solucion con elif"
   ]
  },
  {
   "cell_type": "code",
   "execution_count": 25,
   "metadata": {},
   "outputs": [
    {
     "name": "stdout",
     "output_type": "stream",
     "text": [
      "El correo es válido\n"
     ]
    }
   ],
   "source": [
    "correo = input(\"Correo: \")\n",
    "if \"@\" not in correo or \".\" not in correo or correo.count(\"@\") != 1:\n",
    "    print(\"El correo no es válido\")\n",
    "elif correo.find(\"@\") >= correo.rfind(\".\") or correo.find(\"@\") == 0 or correo.rfind(\".\") == len(correo) - 1:\n",
    "    print(\"El correo no es válido\")\n",
    "elif correo.rfind(\".\") - correo.find(\"@\") <= 1:\n",
    "    print(\"El correo no es válido\")\n",
    "elif correo.find(\".\") - correo.find(\"@\") == 1:\n",
    "    print(\"El correo no es válido\")\n",
    "else:\n",
    "    print(\"El correo es válido\")"
   ]
  }
 ],
 "metadata": {
  "kernelspec": {
   "display_name": "Python 3",
   "language": "python",
   "name": "python3"
  },
  "language_info": {
   "codemirror_mode": {
    "name": "ipython",
    "version": 3
   },
   "file_extension": ".py",
   "mimetype": "text/x-python",
   "name": "python",
   "nbconvert_exporter": "python",
   "pygments_lexer": "ipython3",
   "version": "3.12.3"
  }
 },
 "nbformat": 4,
 "nbformat_minor": 2
}
