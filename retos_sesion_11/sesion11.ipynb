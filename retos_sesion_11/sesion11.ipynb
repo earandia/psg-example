{
 "cells": [
  {
   "cell_type": "code",
   "execution_count": 1,
   "metadata": {},
   "outputs": [
    {
     "name": "stdout",
     "output_type": "stream",
     "text": [
      "Diccionario de clave entera y valor entero\n",
      "{1: 10, 2: 20, 3: 30}\n",
      "<class 'dict'>\n"
     ]
    }
   ],
   "source": [
    "print (\"Diccionario de clave entera y valor entero\")\n",
    "diccionario = {1: 10, 2: 20, 3: 30}\n",
    "print(diccionario)\n",
    "print(type(diccionario))"
   ]
  },
  {
   "cell_type": "code",
   "execution_count": 2,
   "metadata": {},
   "outputs": [
    {
     "name": "stdout",
     "output_type": "stream",
     "text": [
      "Diccionario de clave entero y valor cadena\n",
      "{1: 'uno', 2: 'dos', 3: 'tres'}\n",
      "<class 'dict'>\n"
     ]
    }
   ],
   "source": [
    "print (\"Diccionario de clave entero y valor cadena\")\n",
    "diccionario = {1: 'uno', 2: 'dos', 3: 'tres'}\n",
    "print(diccionario)\n",
    "print(type(diccionario))"
   ]
  },
  {
   "cell_type": "code",
   "execution_count": 3,
   "metadata": {},
   "outputs": [
    {
     "name": "stdout",
     "output_type": "stream",
     "text": [
      "Diccionario de clave cadena y valor entero\n",
      "{'uno': 1, 'dos': 2, 'tres': 3}\n",
      "<class 'dict'>\n"
     ]
    }
   ],
   "source": [
    "print (\"Diccionario de clave cadena y valor entero\")\n",
    "diccionario = {'uno': 1, 'dos': 2, 'tres': 3}\n",
    "print(diccionario)\n",
    "print(type(diccionario))"
   ]
  },
  {
   "cell_type": "code",
   "execution_count": 4,
   "metadata": {},
   "outputs": [
    {
     "name": "stdout",
     "output_type": "stream",
     "text": [
      "Diccionario de clave cadena y valor cadena\n",
      "{'perro': '🐶', 'gato': '🐱', 'ave': '🐦'}\n",
      "<class 'dict'>\n"
     ]
    }
   ],
   "source": [
    "print (\"Diccionario de clave cadena y valor cadena\")\n",
    "diccionario = {'perro': '🐶', 'gato': '🐱', 'ave': '🐦'}\n",
    "print(diccionario)\n",
    "print(type(diccionario))"
   ]
  },
  {
   "cell_type": "code",
   "execution_count": 5,
   "metadata": {},
   "outputs": [
    {
     "name": "stdout",
     "output_type": "stream",
     "text": [
      "Diccionario mixto\n",
      "{1: 'ID-XXXXX', 'edad': 3, 'animal': '🐶', ('John', 'Doe'): 6917222722, 'salvaje': False}\n",
      "<class 'dict'>\n"
     ]
    }
   ],
   "source": [
    "print (\"Diccionario mixto\")\n",
    "diccionario = {1:\"ID-XXXXX\", \"edad\": 3, 'animal': '🐶' , (\"John\",\"Doe\"): 6917222722, \"salvaje\": False}\n",
    "print(diccionario)\n",
    "print(type(diccionario))"
   ]
  },
  {
   "cell_type": "code",
   "execution_count": 6,
   "metadata": {},
   "outputs": [
    {
     "name": "stdout",
     "output_type": "stream",
     "text": [
      "Diccionario vacío\n",
      "{}\n",
      "<class 'dict'>\n",
      "{}\n",
      "<class 'dict'>\n"
     ]
    }
   ],
   "source": [
    "print (\"Diccionario vacío\")\n",
    "diccionario = {}\n",
    "print(diccionario)\n",
    "print(type(diccionario))\n",
    "diccionario = dict()\n",
    "print(diccionario)\n",
    "print(type(diccionario))"
   ]
  },
  {
   "cell_type": "code",
   "execution_count": 7,
   "metadata": {},
   "outputs": [
    {
     "name": "stdout",
     "output_type": "stream",
     "text": [
      "Diccionario a partir de una lista\n",
      "[['perro', '🐶'], ['gato', '🐱'], ['ave', '🐦']]\n",
      "{'perro': '🐶', 'gato': '🐱', 'ave': '🐦'}\n",
      "<class 'dict'>\n"
     ]
    }
   ],
   "source": [
    "print (\"Diccionario a partir de una lista\")\n",
    "lista = [['perro', '🐶'] , ['gato','🐱'] , ['ave','🐦']]\n",
    "print(lista)\n",
    "diccionario = dict(lista)\n",
    "print(diccionario)\n",
    "print(type(diccionario))"
   ]
  },
  {
   "cell_type": "code",
   "execution_count": 8,
   "metadata": {},
   "outputs": [
    {
     "name": "stdout",
     "output_type": "stream",
     "text": [
      "Diccionario a partir de una tupla de tuplas\n",
      "(('perro', '🐶'), ('gatos', '🐱'), ('ave', ['🐦', '🦅']))\n",
      "{'perro': '🐶', 'gatos': '🐱', 'ave': ['🐦', '🦅']}\n",
      "<class 'dict'>\n"
     ]
    }
   ],
   "source": [
    "print (\"Diccionario a partir de una tupla de tuplas\")\n",
    "tupla = (('perro', '🐶') , ('gatos','🐱') , ('ave',['🐦','🦅']))\n",
    "print(tupla)\n",
    "diccionario = dict(tupla)\n",
    "print(diccionario)\n",
    "print(type(diccionario))"
   ]
  },
  {
   "cell_type": "code",
   "execution_count": 9,
   "metadata": {},
   "outputs": [
    {
     "name": "stdout",
     "output_type": "stream",
     "text": [
      "Diccionario mediante comprensión\n",
      "{'🐶': '🐶🐶🐶', '🐱': '🐱🐱🐱', '🐹': '🐹🐹🐹', '🐰': '🐰🐰🐰'}\n",
      "<class 'dict'>\n"
     ]
    }
   ],
   "source": [
    "print (\"Diccionario mediante comprensión\")\n",
    "diccionario = {animal:animal*3 for animal in '🐶🐱🐹🐰'}\n",
    "print(diccionario)\n",
    "print(type(diccionario))"
   ]
  },
  {
   "cell_type": "code",
   "execution_count": 10,
   "metadata": {},
   "outputs": [
    {
     "name": "stdout",
     "output_type": "stream",
     "text": [
      "Acceder mediante clave\n",
      "{'perro': '🐶', 'gato': '🐱', 'ave': '🐦'}\n",
      "🐶 <class 'str'>\n",
      "🐱 <class 'str'>\n",
      "🐦 <class 'str'>\n"
     ]
    }
   ],
   "source": [
    "print (\"Acceder mediante clave\")\n",
    "diccionario = {'perro': '🐶', 'gato': '🐱', 'ave': '🐦'}\n",
    "print(diccionario)\n",
    "print(diccionario['perro'],type(diccionario['perro']))\n",
    "print(diccionario['gato'],type(diccionario['gato']))\n",
    "print(diccionario['ave'],type(diccionario['ave']))"
   ]
  },
  {
   "cell_type": "code",
   "execution_count": 11,
   "metadata": {},
   "outputs": [
    {
     "name": "stdout",
     "output_type": "stream",
     "text": [
      "Cambiar el valor de una clave\n",
      "{'perro': '🐶', 'gato': '🐱', 'ave': '🐦'}\n",
      "{'perro': '🐩', 'gato': '🐱', 'ave': '🐦'}\n"
     ]
    }
   ],
   "source": [
    "print (\"Cambiar el valor de una clave\")\n",
    "diccionario = {'perro': '🐶', 'gato': '🐱', 'ave': '🐦'}\n",
    "print(diccionario)\n",
    "diccionario['perro'] = '🐩'\n",
    "print(diccionario)"
   ]
  },
  {
   "cell_type": "code",
   "execution_count": 12,
   "metadata": {},
   "outputs": [
    {
     "name": "stdout",
     "output_type": "stream",
     "text": [
      "Crear un nuevo par clave-valor\n",
      "{'perro': '🐶', 'gato': '🐱', 'ave': '🐦'}\n",
      "{'perro': '🐶', 'gato': '🐱', 'ave': '🐦', 'pez': '🐠'}\n"
     ]
    }
   ],
   "source": [
    "print (\"Crear un nuevo par clave-valor\")\n",
    "diccionario = {'perro': '🐶', 'gato': '🐱', 'ave': '🐦'}\n",
    "print(diccionario)\n",
    "diccionario['pez'] = '🐠'\n",
    "print(diccionario)"
   ]
  },
  {
   "cell_type": "code",
   "execution_count": 13,
   "metadata": {},
   "outputs": [
    {
     "name": "stdout",
     "output_type": "stream",
     "text": [
      "Eliminar un par clave-valor\n",
      "{'perro': '🐶', 'gato': '🐱', 'ave': '🐦'}\n",
      "{'perro': '🐶', 'gato': '🐱'}\n"
     ]
    }
   ],
   "source": [
    "print (\"Eliminar un par clave-valor\")\n",
    "diccionario = {'perro': '🐶', 'gato': '🐱', 'ave': '🐦'}\n",
    "print(diccionario)\n",
    "del diccionario['ave']\n",
    "print(diccionario)"
   ]
  },
  {
   "cell_type": "code",
   "execution_count": 14,
   "metadata": {},
   "outputs": [
    {
     "name": "stdout",
     "output_type": "stream",
     "text": [
      "Modificar la clave\n",
      "{'perro': '🐶', 'gato': '🐱', 'ave': '🐦'}\n",
      "{'gato': '🐱', 'ave': '🐦', 'perrito': '🐶'}\n"
     ]
    }
   ],
   "source": [
    "print (\"Modificar la clave\")\n",
    "diccionario = {'perro': '🐶', 'gato': '🐱', 'ave': '🐦'}\n",
    "print(diccionario)\n",
    "diccionario['perrito'] = diccionario['perro']\n",
    "del diccionario['perro']\n",
    "print(diccionario)"
   ]
  },
  {
   "cell_type": "code",
   "execution_count": 15,
   "metadata": {},
   "outputs": [
    {
     "name": "stdout",
     "output_type": "stream",
     "text": [
      "Concatenar diccionarios\n"
     ]
    },
    {
     "ename": "TypeError",
     "evalue": "unsupported operand type(s) for +: 'dict' and 'dict'",
     "output_type": "error",
     "traceback": [
      "\u001b[1;31m---------------------------------------------------------------------------\u001b[0m",
      "\u001b[1;31mTypeError\u001b[0m                                 Traceback (most recent call last)",
      "Cell \u001b[1;32mIn[15], line 4\u001b[0m\n\u001b[0;32m      2\u001b[0m diccionario1 \u001b[38;5;241m=\u001b[39m {\u001b[38;5;124m'\u001b[39m\u001b[38;5;124mperro\u001b[39m\u001b[38;5;124m'\u001b[39m: \u001b[38;5;124m'\u001b[39m\u001b[38;5;124m🐶\u001b[39m\u001b[38;5;124m'\u001b[39m, \u001b[38;5;124m'\u001b[39m\u001b[38;5;124mgato\u001b[39m\u001b[38;5;124m'\u001b[39m: \u001b[38;5;124m'\u001b[39m\u001b[38;5;124m🐱\u001b[39m\u001b[38;5;124m'\u001b[39m}\n\u001b[0;32m      3\u001b[0m diccionario2 \u001b[38;5;241m=\u001b[39m {\u001b[38;5;124m'\u001b[39m\u001b[38;5;124mave\u001b[39m\u001b[38;5;124m'\u001b[39m: \u001b[38;5;124m'\u001b[39m\u001b[38;5;124m🐦\u001b[39m\u001b[38;5;124m'\u001b[39m, \u001b[38;5;124m'\u001b[39m\u001b[38;5;124mpez\u001b[39m\u001b[38;5;124m'\u001b[39m: \u001b[38;5;124m'\u001b[39m\u001b[38;5;124m🐠\u001b[39m\u001b[38;5;124m'\u001b[39m}\n\u001b[1;32m----> 4\u001b[0m concatenado \u001b[38;5;241m=\u001b[39m \u001b[43mdiccionario1\u001b[49m\u001b[43m \u001b[49m\u001b[38;5;241;43m+\u001b[39;49m\u001b[43m \u001b[49m\u001b[43mdiccionario2\u001b[49m \u001b[38;5;66;03m# TypeError: unsupported operand type(s) for +: 'dict' and 'dict'\u001b[39;00m\n",
      "\u001b[1;31mTypeError\u001b[0m: unsupported operand type(s) for +: 'dict' and 'dict'"
     ]
    }
   ],
   "source": [
    "print (\"Concatenar diccionarios\")\n",
    "diccionario1 = {'perro': '🐶', 'gato': '🐱'}\n",
    "diccionario2 = {'ave': '🐦', 'pez': '🐠'}\n",
    "concatenado = diccionario1 + diccionario2 # TypeError: unsupported operand type(s) for +: 'dict' and 'dict'"
   ]
  },
  {
   "cell_type": "code",
   "execution_count": 16,
   "metadata": {},
   "outputs": [
    {
     "name": "stdout",
     "output_type": "stream",
     "text": [
      "Repetir diccionarios\n"
     ]
    },
    {
     "ename": "TypeError",
     "evalue": "unsupported operand type(s) for *: 'dict' and 'int'",
     "output_type": "error",
     "traceback": [
      "\u001b[1;31m---------------------------------------------------------------------------\u001b[0m",
      "\u001b[1;31mTypeError\u001b[0m                                 Traceback (most recent call last)",
      "Cell \u001b[1;32mIn[16], line 3\u001b[0m\n\u001b[0;32m      1\u001b[0m \u001b[38;5;28mprint\u001b[39m (\u001b[38;5;124m\"\u001b[39m\u001b[38;5;124mRepetir diccionarios\u001b[39m\u001b[38;5;124m\"\u001b[39m)\n\u001b[0;32m      2\u001b[0m diccionario \u001b[38;5;241m=\u001b[39m {\u001b[38;5;124m'\u001b[39m\u001b[38;5;124mperro\u001b[39m\u001b[38;5;124m'\u001b[39m: \u001b[38;5;124m'\u001b[39m\u001b[38;5;124m🐶\u001b[39m\u001b[38;5;124m'\u001b[39m, \u001b[38;5;124m'\u001b[39m\u001b[38;5;124mgato\u001b[39m\u001b[38;5;124m'\u001b[39m: \u001b[38;5;124m'\u001b[39m\u001b[38;5;124m🐱\u001b[39m\u001b[38;5;124m'\u001b[39m}\n\u001b[1;32m----> 3\u001b[0m repetido \u001b[38;5;241m=\u001b[39m \u001b[43mdiccionario\u001b[49m\u001b[43m \u001b[49m\u001b[38;5;241;43m*\u001b[39;49m\u001b[43m \u001b[49m\u001b[38;5;241;43m3\u001b[39;49m \u001b[38;5;66;03m# TypeError: unsupported operand type(s) for *: 'dict' and 'int'\u001b[39;00m\n",
      "\u001b[1;31mTypeError\u001b[0m: unsupported operand type(s) for *: 'dict' and 'int'"
     ]
    }
   ],
   "source": [
    "print (\"Repetir diccionarios\")\n",
    "diccionario = {'perro': '🐶', 'gato': '🐱'}\n",
    "repetido = diccionario * 3 # TypeError: unsupported operand type(s) for *: 'dict' and 'int'"
   ]
  },
  {
   "cell_type": "code",
   "execution_count": 17,
   "metadata": {},
   "outputs": [
    {
     "name": "stdout",
     "output_type": "stream",
     "text": [
      "Método get(clave)\n",
      "{'perro': '🐶', 'gato': '🐱', 'ave': '🐦'}\n",
      "🐶 <class 'str'>\n",
      "None <class 'NoneType'>\n"
     ]
    }
   ],
   "source": [
    "print (\"Método get(clave)\")\n",
    "diccionario = {'perro': '🐶', 'gato': '🐱', 'ave': '🐦'}\n",
    "print (diccionario)\n",
    "perro = diccionario.get('perro')\n",
    "print(perro, type(perro))\n",
    "pez = diccionario.get('pez')\n",
    "print(pez, type(pez))"
   ]
  },
  {
   "cell_type": "code",
   "execution_count": 18,
   "metadata": {},
   "outputs": [
    {
     "name": "stdout",
     "output_type": "stream",
     "text": [
      "Método items()\n",
      "{'perro': '🐶', 'gato': '🐱', 'ave': '🐦'}\n",
      "dict_items([('perro', '🐶'), ('gato', '🐱'), ('ave', '🐦')]) <class 'dict_items'>\n",
      "[('perro', '🐶'), ('gato', '🐱'), ('ave', '🐦')] <class 'list'>\n",
      "('perro', '🐶') <class 'tuple'>\n"
     ]
    }
   ],
   "source": [
    "print (\"Método items()\")\n",
    "diccionario = {'perro': '🐶', 'gato': '🐱', 'ave': '🐦'}\n",
    "print(diccionario)\n",
    "items = diccionario.items()\n",
    "print(items, type(items))\n",
    "items = list(items) # Convertir a lista\n",
    "print(items, type(items))\n",
    "print(items[0], type(items[0]))"
   ]
  },
  {
   "cell_type": "code",
   "execution_count": 19,
   "metadata": {},
   "outputs": [
    {
     "name": "stdout",
     "output_type": "stream",
     "text": [
      "Método keys()\n",
      "{'perro': '🐶', 'gato': '🐱', 'ave': '🐦'}\n",
      "dict_keys(['perro', 'gato', 'ave']) <class 'dict_keys'>\n",
      "['perro', 'gato', 'ave'] <class 'list'>\n",
      "perro <class 'str'>\n"
     ]
    }
   ],
   "source": [
    "print (\"Método keys()\")\n",
    "diccionario = {'perro': '🐶', 'gato': '🐱', 'ave': '🐦'}\n",
    "print(diccionario)\n",
    "keys = diccionario.keys()\n",
    "print(keys, type(keys))\n",
    "keys = list(keys) # Convertir a lista\n",
    "print(keys, type(keys))\n",
    "print(keys[0], type(keys[0]))"
   ]
  },
  {
   "cell_type": "code",
   "execution_count": 20,
   "metadata": {},
   "outputs": [
    {
     "name": "stdout",
     "output_type": "stream",
     "text": [
      "Método values()\n",
      "{'perro': '🐶', 'gato': '🐱', 'ave': '🐦'}\n",
      "dict_values(['🐶', '🐱', '🐦']) <class 'dict_values'>\n",
      "['🐶', '🐱', '🐦'] <class 'list'>\n",
      "🐶 <class 'str'>\n"
     ]
    }
   ],
   "source": [
    "print (\"Método values()\")\n",
    "diccionario = {'perro': '🐶', 'gato': '🐱', 'ave': '🐦'}\n",
    "print(diccionario)\n",
    "values = diccionario.values()\n",
    "print(values, type(values))\n",
    "values = list(values) # Convertir a lista\n",
    "print(values, type(values))\n",
    "print(values[0], type(values[0]))"
   ]
  },
  {
   "cell_type": "code",
   "execution_count": 21,
   "metadata": {},
   "outputs": [
    {
     "name": "stdout",
     "output_type": "stream",
     "text": [
      "Método update(diccionario)\n",
      "{'perro': '🐶', 'gato': '🐱', 'ave': '🐦'}\n",
      "{'perro': '🐩', 'gato': '🐱', 'ave': '🐦', 'pez': '🐠'}\n"
     ]
    }
   ],
   "source": [
    "print (\"Método update(diccionario)\")\n",
    "diccionario = {'perro': '🐶', 'gato': '🐱', 'ave': '🐦'}\n",
    "print(diccionario)\n",
    "diccionario.update({'pez': '🐠', 'perro': '🐩'})\n",
    "print(diccionario)"
   ]
  },
  {
   "cell_type": "code",
   "execution_count": 22,
   "metadata": {},
   "outputs": [
    {
     "name": "stdout",
     "output_type": "stream",
     "text": [
      "Método update(clave=valor)\n",
      "{'perro': '🐶', 'gato': '🐱', 'ave': '🐦'}\n",
      "{'perro': '🐩', 'gato': '🐱', 'ave': '🐦', 'pez': '🐠'}\n"
     ]
    }
   ],
   "source": [
    "print (\"Método update(clave=valor)\")\n",
    "diccionario = {'perro': '🐶', 'gato': '🐱', 'ave': '🐦'}\n",
    "print(diccionario)\n",
    "diccionario.update(pez='🐠', perro='🐩')\n",
    "print(diccionario)"
   ]
  },
  {
   "cell_type": "markdown",
   "metadata": {},
   "source": [
    "## clear() \n",
    "- Elimina todos los elementos del diccionario"
   ]
  },
  {
   "cell_type": "code",
   "execution_count": 23,
   "metadata": {},
   "outputs": [
    {
     "name": "stdout",
     "output_type": "stream",
     "text": [
      "Método clear()\n",
      "{'perro': '🐶', 'gato': '🐱', 'ave': '🐦'}\n",
      "{}\n"
     ]
    }
   ],
   "source": [
    "print (\"Método clear()\")\n",
    "diccionario = {'perro': '🐶', 'gato': '🐱', 'ave': '🐦'}\n",
    "print(diccionario)\n",
    "diccionario.clear()\n",
    "print(diccionario)"
   ]
  },
  {
   "cell_type": "markdown",
   "metadata": {},
   "source": [
    "## pop(clave)\n",
    "- Recibe una clave y elimina el par clave-valor del diccionario, retorna el valor de la clave"
   ]
  },
  {
   "cell_type": "code",
   "execution_count": 24,
   "metadata": {},
   "outputs": [
    {
     "name": "stdout",
     "output_type": "stream",
     "text": [
      "Método pop(clave)\n",
      "{'perro': '🐶', 'gato': '🐱', 'ave': '🐦'}\n",
      "🐱 <class 'str'>\n",
      "{'perro': '🐶', 'ave': '🐦'}\n"
     ]
    }
   ],
   "source": [
    "print (\"Método pop(clave)\")\n",
    "diccionario = {'perro': '🐶', 'gato': '🐱', 'ave': '🐦'}\n",
    "print(diccionario)\n",
    "gato = diccionario.pop('gato')\n",
    "print(gato, type(gato))\n",
    "print(diccionario)"
   ]
  },
  {
   "cell_type": "markdown",
   "metadata": {},
   "source": [
    "## popitem()\n",
    "- Elimina el último par clave-valor del diccionario, retorna el par clave-valor, si el diccionario está vacío retorna un error"
   ]
  },
  {
   "cell_type": "code",
   "execution_count": 25,
   "metadata": {},
   "outputs": [
    {
     "name": "stdout",
     "output_type": "stream",
     "text": [
      "Método popitem()\n",
      "{'perro': '🐶', 'gato': '🐱'}\n",
      "('gato', '🐱') <class 'tuple'>\n",
      "{'perro': '🐶'}\n"
     ]
    }
   ],
   "source": [
    "print (\"Método popitem()\")\n",
    "diccionario = {'perro': '🐶', 'gato': '🐱'}\n",
    "print(diccionario)\n",
    "par = diccionario.popitem()\n",
    "print(par, type(par))\n",
    "print(diccionario)\n",
    "# par = diccionario.popitem()\n",
    "# print(par, type(par)) # KeyError: 'popitem(): dictionary is empty'"
   ]
  },
  {
   "cell_type": "code",
   "execution_count": 26,
   "metadata": {},
   "outputs": [
    {
     "name": "stdout",
     "output_type": "stream",
     "text": [
      "Asignación por referencia\n",
      "{'perro': '🐶', 'gato': '🐱', 'ave': '🐦'}\n",
      "{'perro': '🐶', 'gato': '🐱', 'ave': '🐦'}\n",
      "{'perro': '🐶', 'gato': '🐱', 'ave': '🦅'}\n",
      "{'perro': '🐶', 'gato': '🐱', 'ave': '🦅'}\n"
     ]
    }
   ],
   "source": [
    "print (\"Asignación por referencia\")\n",
    "diccionario = {'perro': '🐶', 'gato': '🐱', 'ave': '🐦'}\n",
    "print(diccionario)\n",
    "copia = diccionario\n",
    "print(copia)\n",
    "copia['ave'] = '🦅'\n",
    "print(diccionario)\n",
    "print(copia)"
   ]
  },
  {
   "cell_type": "code",
   "execution_count": 27,
   "metadata": {},
   "outputs": [
    {
     "name": "stdout",
     "output_type": "stream",
     "text": [
      "Método copy()\n",
      "{'perro': '🐶', 'gato': '🐱', 'ave': '🐦'}\n",
      "{'perro': '🐶', 'gato': '🐱', 'ave': '🐦'}\n",
      "{'perro': '🐶', 'gato': '🐱', 'ave': '🐦'}\n",
      "{'perro': '🐶', 'gato': '🐱', 'ave': '🦅'}\n"
     ]
    }
   ],
   "source": [
    "print (\"Método copy()\")\n",
    "diccionario = {'perro': '🐶', 'gato': '🐱', 'ave': '🐦'}\n",
    "print(diccionario)\n",
    "copia = diccionario.copy()\n",
    "print(copia)\n",
    "copia['ave'] = '🦅'\n",
    "print(diccionario)\n",
    "print(copia)"
   ]
  },
  {
   "cell_type": "code",
   "execution_count": 28,
   "metadata": {},
   "outputs": [
    {
     "name": "stdout",
     "output_type": "stream",
     "text": [
      "Función len()\n",
      "{'perro': '🐶', 'gato': '🐱', 'ave': '🐦'}\n",
      "3\n"
     ]
    }
   ],
   "source": [
    "print (\"Función len()\")\n",
    "diccionario = {'perro': '🐶', 'gato': '🐱', 'ave': '🐦'}\n",
    "print(diccionario)\n",
    "longitud = len(diccionario)\n",
    "print(longitud)"
   ]
  },
  {
   "cell_type": "code",
   "execution_count": 29,
   "metadata": {},
   "outputs": [
    {
     "name": "stdout",
     "output_type": "stream",
     "text": [
      "Función in  / not in\n",
      "{'perro': '🐶', 'gato': '🐱', 'ave': '🐦'}\n",
      "True <class 'bool'>\n",
      "True <class 'bool'>\n"
     ]
    }
   ],
   "source": [
    "print (\"Función in  / not in\")\n",
    "diccionario = {'perro': '🐶', 'gato': '🐱', 'ave': '🐦'}\n",
    "print(diccionario)\n",
    "existe = 'perro' in diccionario\n",
    "print(existe, type(existe))\n",
    "no_existe = 'pez' not in diccionario\n",
    "print(no_existe, type(no_existe))"
   ]
  },
  {
   "cell_type": "code",
   "execution_count": 30,
   "metadata": {},
   "outputs": [
    {
     "name": "stdout",
     "output_type": "stream",
     "text": [
      "Función iter()\n",
      "{'perro': '🐶', 'gato': '🐱', 'ave': '🐦'}\n",
      "<class 'dict_itemiterator'>\n",
      "('perro', '🐶') <class 'tuple'>\n",
      "('gato', '🐱') <class 'tuple'>\n",
      "('ave', '🐦') <class 'tuple'>\n"
     ]
    }
   ],
   "source": [
    "print (\"Función iter()\")\n",
    "diccionario = {'perro': '🐶', 'gato': '🐱', 'ave': '🐦'}\n",
    "print(diccionario)\n",
    "iterador = iter(diccionario.items())\n",
    "print(type(iterador))\n",
    "siguiente = next(iterador)\n",
    "print(siguiente, type(siguiente))\n",
    "siguiente = next(iterador)\n",
    "print(siguiente, type(siguiente))\n",
    "siguiente = next(iterador)\n",
    "print(siguiente, type(siguiente))"
   ]
  },
  {
   "cell_type": "code",
   "execution_count": 31,
   "metadata": {},
   "outputs": [
    {
     "name": "stdout",
     "output_type": "stream",
     "text": [
      "Diccionarios anidados\n",
      "{'perro': '🐶', 'gato': '🐱', 'ave': {'pajaro': '🐦', 'aguila': '🦅'}}\n",
      "{'pajaro': '🐦', 'aguila': '🦅'}\n",
      "🐦\n",
      "🦅\n"
     ]
    }
   ],
   "source": [
    "print (\"Diccionarios anidados\")\n",
    "diccionario = {'perro': '🐶', 'gato': '🐱',  'ave': {'pajaro': '🐦', 'aguila': '🦅'}}\n",
    "print(diccionario)\n",
    "aves = diccionario['ave']\n",
    "print(aves)\n",
    "ave = aves['pajaro']\n",
    "print(ave)\n",
    "ave = aves['aguila']\n",
    "print(ave)"
   ]
  }
 ],
 "metadata": {
  "kernelspec": {
   "display_name": "Python 3",
   "language": "python",
   "name": "python3"
  },
  "language_info": {
   "codemirror_mode": {
    "name": "ipython",
    "version": 3
   },
   "file_extension": ".py",
   "mimetype": "text/x-python",
   "name": "python",
   "nbconvert_exporter": "python",
   "pygments_lexer": "ipython3",
   "version": "3.12.3"
  }
 },
 "nbformat": 4,
 "nbformat_minor": 2
}
